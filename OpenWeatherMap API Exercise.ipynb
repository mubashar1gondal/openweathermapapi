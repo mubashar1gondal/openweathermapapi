{
 "cells": [
  {
   "cell_type": "code",
   "execution_count": 1,
   "id": "heard-popularity",
   "metadata": {},
   "outputs": [],
   "source": [
    "# OpenweatherMap API\n",
    "\n",
    "# https://openweathermap.org"
   ]
  },
  {
   "cell_type": "code",
   "execution_count": 1,
   "id": "likely-arlington",
   "metadata": {},
   "outputs": [],
   "source": [
    "# API/Developer\n",
    "\n",
    "# Sign Up for account\n",
    "\n",
    "# Find Where API key is\n",
    "\n",
    "# Attach the API key to EVERY single API call\n",
    "\n",
    "# Look up API documentation for the current forecast\n",
    "\n",
    "# Find out how to make an API call\n",
    "\n",
    "# Current weather conditions\n",
    "# Today's High Temperature\n",
    "# Current Temperature\n",
    "# Today's Low Temperature\n",
    "# Humidity\n",
    "# City, State"
   ]
  },
  {
   "cell_type": "code",
   "execution_count": 3,
   "id": "4a45132b",
   "metadata": {},
   "outputs": [
    {
     "data": {
      "text/plain": [
       "{'coord': {'lon': -75.1638, 'lat': 39.9523},\n",
       " 'weather': [{'id': 803,\n",
       "   'main': 'Clouds',\n",
       "   'description': 'broken clouds',\n",
       "   'icon': '04d'}],\n",
       " 'base': 'stations',\n",
       " 'main': {'temp': 290.55,\n",
       "  'feels_like': 289.6,\n",
       "  'temp_min': 289.15,\n",
       "  'temp_max': 291.48,\n",
       "  'pressure': 1004,\n",
       "  'humidity': 48},\n",
       " 'visibility': 10000,\n",
       " 'wind': {'speed': 6.69, 'deg': 290, 'gust': 9.26},\n",
       " 'clouds': {'all': 75},\n",
       " 'dt': 1618513480,\n",
       " 'sys': {'type': 1,\n",
       "  'id': 5344,\n",
       "  'country': 'US',\n",
       "  'sunrise': 1618482136,\n",
       "  'sunset': 1618529911},\n",
       " 'timezone': -14400,\n",
       " 'id': 4560349,\n",
       " 'name': 'Philadelphia',\n",
       " 'cod': 200}"
      ]
     },
     "execution_count": 3,
     "metadata": {},
     "output_type": "execute_result"
    }
   ],
   "source": [
    "import requests as r\n",
    "data = r.get(\"https://api.openweathermap.org/data/2.5/weather?q=philadelphia&appid=1eedb61da0eb6b971d1450bdc3f7ca32\").json()\n",
    "data\n",
    "             "
   ]
  },
  {
   "cell_type": "code",
   "execution_count": 14,
   "id": "a8405274",
   "metadata": {},
   "outputs": [
    {
     "name": "stdout",
     "output_type": "stream",
     "text": [
      "291.48\n",
      "290.55\n",
      "289.15\n",
      "48\n",
      "Philadelphia\n"
     ]
    }
   ],
   "source": [
    "#get current weather conditions\n",
    "#1 today's high temperature\n",
    "high_temp = data['main']['temp_max']\n",
    "print(high_temp)\n",
    "\n",
    "#2 get current temp\n",
    "current_temp = data['main']['temp']\n",
    "print(current_temp)\n",
    "\n",
    "#3 today's low\n",
    "low_temp = data['main']['temp_min']\n",
    "print(low_temp)\n",
    "\n",
    "#4 humidity\n",
    "humidity = data['main']['humidity']\n",
    "print(humidity)\n",
    "\n",
    "#5 city,state\n",
    "city = data['name']\n",
    "print(city)"
   ]
  },
  {
   "cell_type": "code",
   "execution_count": 7,
   "id": "64625387",
   "metadata": {},
   "outputs": [
    {
     "data": {
      "text/plain": [
       "48"
      ]
     },
     "execution_count": 7,
     "metadata": {},
     "output_type": "execute_result"
    }
   ],
   "source": [
    "import requests as r\n",
    "\n",
    "class Weather:\n",
    "    def __init__(self, city_name):\n",
    "        d = r.get(f\"https://api.openweathermap.org/data/2.5/weather?q={city_name.lower()}&appid=1eedb61da0eb6b971d1450bdc3f7ca32\").json()\n",
    "        self.city = d['name']\n",
    "        self.current_temp = d['main']['temp']\n",
    "        self.high_temp = d['main']['temp_max']\n",
    "        self.low_temp = d['main']['temp_min']\n",
    "        self.humidity = d['main']['humidity']\n",
    "        \n",
    "philly = Weather('philadelphia')\n",
    "philly.humidity\n",
    "\n"
   ]
  },
  {
   "cell_type": "code",
   "execution_count": null,
   "id": "db877d0f",
   "metadata": {},
   "outputs": [],
   "source": []
  },
  {
   "cell_type": "code",
   "execution_count": null,
   "id": "9fbd1ebd",
   "metadata": {},
   "outputs": [],
   "source": []
  }
 ],
 "metadata": {
  "kernelspec": {
   "display_name": "Python 3",
   "language": "python",
   "name": "python3"
  },
  "language_info": {
   "codemirror_mode": {
    "name": "ipython",
    "version": 3
   },
   "file_extension": ".py",
   "mimetype": "text/x-python",
   "name": "python",
   "nbconvert_exporter": "python",
   "pygments_lexer": "ipython3",
   "version": "3.9.2"
  }
 },
 "nbformat": 4,
 "nbformat_minor": 5
}
