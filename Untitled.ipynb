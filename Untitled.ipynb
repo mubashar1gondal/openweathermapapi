{
 "cells": [
  {
   "cell_type": "code",
   "execution_count": 10,
   "id": "dd20f353",
   "metadata": {},
   "outputs": [
    {
     "data": {
      "text/plain": [
       "(4, True)"
      ]
     },
     "execution_count": 10,
     "metadata": {},
     "output_type": "execute_result"
    }
   ],
   "source": [
    "# LinkedList\n",
    "\n",
    "# pros:\n",
    "# To get from one node to the next, it'll always take the exact same amount of time\n",
    "\n",
    "# cons:\n",
    "# if you want to search for a particular value in the LinkedList, you're at the mercy of the amount of time it takes to \n",
    "# get from one node to the next, multiplied by however many \"indeces/nodes\" you have to traverse over in order\n",
    "# to get the value\n",
    "\n",
    "# l1 = [\"tim\", 1, \"Derek\", 2, \"Sam\"]\n",
    "# len(l1) - technically retrieves the size of a list\n",
    "\n",
    "class Node:\n",
    "    def __init__(self, data=None, next_node=None prev=None ):\n",
    "        self.data = data\n",
    "        self.next_node = next_node\n",
    "        self.prev = prev\n",
    "        \n",
    "    def get_data(self):\n",
    "        return self.data\n",
    "    \n",
    "    def get_next(self):\n",
    "        return self.next_node\n",
    "    \n",
    "    def set_next(self, new_data):\n",
    "        self.next_node = new_data\n",
    "    \n",
    "        \n",
    "\n",
    "class LinkedList:\n",
    "    def __init__(self, head=None):\n",
    "        self.head = head\n",
    "        \n",
    "    def insert(self, data):\n",
    "        node = Node(data)\n",
    "        node.set_next(self.head)\n",
    "        node.prev = None\n",
    "        if self.head is not None:\n",
    "            self.head.prev = node\n",
    "        self.head = node\n",
    "        \n",
    "    def size(self):\n",
    "        current = self.head\n",
    "        count = 0\n",
    "        while current:\n",
    "            count+=1\n",
    "            current = current.get_next()\n",
    "        return count\n",
    "    \n",
    "    def search(self, data):\n",
    "        current = self.head\n",
    "        found = False\n",
    "        \n",
    "        while current and not found:\n",
    "            if current.get_data() == data:\n",
    "                found = True\n",
    "            else:\n",
    "                current = current.get_next()\n",
    "        if current is None:\n",
    "            raise ValueError(\"You've reached the end of the list\")\n",
    "        return current.get_data(), True\n",
    "    \n",
    "    # when  a node is remove [1, 2, 3, 4] = [1, None, 3, 4]\n",
    "    def delete(self, data):\n",
    "        current = self.head\n",
    "        previous = None\n",
    "        found = False\n",
    "        \n",
    "        while current and not found:\n",
    "            if current.get_data() == data:\n",
    "                found = True\n",
    "            else:\n",
    "                previous = current\n",
    "                current = current.get_next()\n",
    "        if current is None:\n",
    "            raise ValueError('That value cannot be found')\n",
    "        if previous is None:\n",
    "            self.head = current.get_next()\n",
    "        else:\n",
    "            previous.set_next(current.get_next())\n",
    "\n",
    "s = LinkedList()\n",
    "s.insert(4)\n",
    "s.search(4)"
   ]
  },
  {
   "cell_type": "code",
   "execution_count": null,
   "id": "271ce0ce",
   "metadata": {},
   "outputs": [],
   "source": []
  }
 ],
 "metadata": {
  "kernelspec": {
   "display_name": "Python 3",
   "language": "python",
   "name": "python3"
  },
  "language_info": {
   "codemirror_mode": {
    "name": "ipython",
    "version": 3
   },
   "file_extension": ".py",
   "mimetype": "text/x-python",
   "name": "python",
   "nbconvert_exporter": "python",
   "pygments_lexer": "ipython3",
   "version": "3.9.2"
  }
 },
 "nbformat": 4,
 "nbformat_minor": 5
}
